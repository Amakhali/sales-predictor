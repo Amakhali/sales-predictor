{
 "cells": [
  {
   "cell_type": "code",
   "execution_count": 4,
   "metadata": {},
   "outputs": [],
   "source": [
    "import pandas as pd\n",
    "import numpy as np\n",
    "from sklearn.preprocessing import LabelEncoder, StandardScaler\n",
    "import matplotlib.pyplot as plt\n",
    "import seaborn as sns\n",
    "%matplotlib inline"
   ]
  },
  {
   "cell_type": "code",
   "execution_count": 5,
   "metadata": {},
   "outputs": [
    {
     "name": "stderr",
     "output_type": "stream",
     "text": [
      "INFO:src.data_preprocessing:Starting data preprocessing...\n",
      "INFO:src.data_preprocessing:Data preprocessing completed successfully\n"
     ]
    }
   ],
   "source": [
    "# Import preprocessing functions\n",
    "import sys\n",
    "sys.path.append('..')\n",
    "from src.data_preprocessing import DataPreprocessor\n",
    "# Load data\n",
    "df = pd.read_csv('../data/sample_data/Sales_Product_Details.csv')\n",
    "preprocessor = DataPreprocessor()\n",
    "processed_df, transformers = preprocessor.preprocess_data(df)"
   ]
  },
  {
   "cell_type": "code",
   "execution_count": 12,
   "metadata": {},
   "outputs": [
    {
     "name": "stderr",
     "output_type": "stream",
     "text": [
      "INFO:src.data_preprocessing:Starting data preprocessing...\n"
     ]
    },
    {
     "name": "stderr",
     "output_type": "stream",
     "text": [
      "INFO:src.data_preprocessing:Data preprocessing completed successfully\n"
     ]
    }
   ],
   "source": [
    "from pathlib import Path\n",
    "\n",
    "def load_and_process_data(data_path):\n",
    "    data_path = Path(data_path)\n",
    "    if not data_path.exists():\n",
    "        raise FileNotFoundError(f\"Data file not found: {data_path}\")\n",
    "    \n",
    "    df = pd.read_csv(data_path)\n",
    "    preprocessor = DataPreprocessor()\n",
    "    return preprocessor.preprocess_data(df)\n",
    "\n",
    "# Usage:\n",
    "data_path = Path(\"../data/sample_data/Sales_Product_Details.csv\")\n",
    "processed_df, transformers = load_and_process_data(data_path)"
   ]
  },
  {
   "cell_type": "code",
   "execution_count": 6,
   "metadata": {},
   "outputs": [],
   "source": [
    "# Add rolling means\n",
    "def add_rolling_features(df, windows=[7, 30]):\n",
    "        for window in windows:\n",
    "            df[f'rolling_mean_{window}d'] = df.groupby('Product_ID')['Sales_Revenue'].transform(\n",
    "                lambda x: x.rolling(window, min_periods=1).mean()\n",
    "           )\n",
    "        return df"
   ]
  }
 ],
 "metadata": {
  "kernelspec": {
   "display_name": "base",
   "language": "python",
   "name": "python3"
  },
  "language_info": {
   "codemirror_mode": {
    "name": "ipython",
    "version": 3
   },
   "file_extension": ".py",
   "mimetype": "text/x-python",
   "name": "python",
   "nbconvert_exporter": "python",
   "pygments_lexer": "ipython3",
   "version": "3.12.7"
  }
 },
 "nbformat": 4,
 "nbformat_minor": 2
}
